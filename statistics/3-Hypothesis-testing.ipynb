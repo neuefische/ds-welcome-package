{
 "cells": [
  {
   "cell_type": "markdown",
   "metadata": {},
   "source": [
    "# Introduction to statistics Part 3\n",
    "In this notebook you will find the statistics basics that we require for the bootcamp.\n",
    "If you still have problems with one or the other term, we strongly recommend you to work on it a bit more. "
   ]
  },
  {
   "cell_type": "markdown",
   "metadata": {},
   "source": [
    "<table style=\"border:2px solid orange\" align=\"left\">\n",
    "  <td style=\"border:2px solid orange \">\n",
    "    <a target=\"_blank\" href=\"https://colab.research.google.com/github/neuefische/2020-ds-intro-to-tensorflow/blob/third-recurrent-neural-networks/notebooks/1-RNN-GRU.ipynb\"><img src=\"https://www.tensorflow.org/images/colab_logo_32px.png\" />Run in Google Colab</a>\n",
    "  </td>\n",
    "  <td style=\"border:2px solid orange\">\n",
    "    <a target=\"_blank\" href=\"https://github.com/neuefische/2020-ds-intro-to-tensorflow/blob/third-recurrent-neural-networks/notebooks/1-RNN-GRU.ipynb\"><img src=\"https://www.tensorflow.org/images/GitHub-Mark-32px.png\" />View source on GitHub</a>\n",
    "  </td>\n",
    "</table>"
   ]
  },
  {
   "cell_type": "markdown",
   "metadata": {},
   "source": [
    "## Hypothesis testing \n",
    "\n",
    "A statistical hypothesis is a hypothesis that is testable on the basis of observed data modelled as the realised values taken by a collection of random variables. A set of data is modelled as being realised values of a collection of random variables having a joint probability distribution in some set of possible joint distributions. The hypothesis being tested is exactly that set of possible probability distributions. A statistical hypothesis test is a method of statistical inference. An alternative hypothesis is proposed for the probability distribution of the data, either explicitly or only informally. The comparison of the two models is deemed statistically significant if, according to a threshold probability -- the significance level -- the data is very unlikely to have occurred under the null hypothesis. A hypothesis test specifies which outcomes of a study may lead to a rejection of the null hypothesis at a pre-specified level of significance, while using a pre-chosen measure of deviation from that hypothesis (the test statistic, or goodness-of-fit measure). The pre-chosen level of significance is the maximal allowed \"false positive rate\". One wants to control the risk of incorrectly rejecting a true null hypothesis.\n",
    "\n",
    "The process of distinguishing between the null hypothesis and the alternative hypothesis is aided by considering two conceptual types of errors. The first type of error occurs when the null hypothesis is wrongly rejected. The second type of error occurs when the null hypothesis is wrongly not rejected. (The two types are known as type 1 and type 2 errors.)\n",
    "\n",
    "A hypothesis is an educated guess about something in the world around you. It should be testable, either by experiment or observation. For example:\n",
    "A new medicine you think might work.\n",
    "A way of teaching you think might be better.\n",
    "A possible location of new species.\n",
    "A fairer way to administer standardized tests.\n",
    "It can really be anything at all as long as you can put it to the test.\n",
    "\n",
    "**What is a Hypothesis Statement?**\n",
    "\n",
    "If you are going to propose a hypothesis, it’s customary to write a statement. Your statement will look like this:\n",
    "“If I…(do this to an independent variable)….then (this will happen to the dependent variable).”\n",
    "For example:\n",
    "\n",
    "If I (decrease the amount of water given to herbs) then (the herbs will increase in size).\n",
    "If I (give patients counseling in addition to medication) then (their overall depression scale will decrease).\n",
    "If I (give exams at noon instead of 7) then (student test scores will improve).\n",
    "If I (look in this certain location) then (I am more likely to find new species).\n",
    "A good hypothesis statement should:\n",
    "\n",
    "Include an “if” and “then” statement (according to the University of California).\n",
    "Include both the independent and dependent variables.\n",
    "Be testable by experiment, survey or other scientifically sound technique.\n",
    "Be based on information in prior research (either yours or someone else’s).\n",
    "Have design criteria (for engineering or programming projects).\n",
    "\n",
    "**What is the Null Hypothesis?**\n",
    "\n",
    "In inferential statistics, the null hypothesis is a general statement or default position that there is no relationship between two measured phenomena, or no association among groups\n",
    "In other words it is a basic assumption or made based on domain or problem knowledge.\n",
    "\n",
    "Example : a company production is = 50 unit/per day etc.\n",
    "\n",
    "**Alternative hypothesis**\n",
    "\n",
    "The alternative hypothesis is the hypothesis used in hypothesis testing that is contrary to the null hypothesis. It is usually taken to be that the observations are the result of a real effect (with some amount of chance variation superposed)\n",
    "\n",
    "Example : a company production is !=50 unit/per day etc.\n",
    "\n",
    "|$H_0$|$H_a$ or $H_1$|\n",
    "|:----:|:----:|\n",
    "|Statement about a population parameter| Statement that directly contradicts the null hypothesis|\n",
    "|We test the likelihood of this parameter <br> being true in order to decide whether to <br> accept or reject our alternative hypothesis| We determine whether or not to accept  or reject <br> this statement based on the likelihood <br> of the null hypothesis being true|\n",
    "\n",
    "\n",
    "**What is Hypothesis Testing?**\n",
    "\n",
    "Hypothesis testing in statistics is a way for you to test the results of a survey or experiment to see if you have meaningful results. You’re basically testing whether your results are valid by figuring out the odds that your results have happened by chance. If your results may have happened by chance, the experiment won’t be repeatable and so has little use. So a hypothesis test evaluates two mutually exclusive statements about a population to determine which statement is best supported by the sample data. When we say that a finding is statistically significant, it’s thanks to a hypothesis test.\n",
    "\n",
    "Hypothesis testing can be one of the most confusing aspects for students, mostly because before you can even perform a test, you have to know what your null hypothesis is. Often, those tricky word problems that you are faced with can be difficult to decipher. But it’s easier than you think; all you need to do is:\n",
    "\n",
    "Figure out your null hypothesis,\n",
    "State your null hypothesis,\n",
    "Choose what kind of test you need to perform,\n",
    "Either support or reject the null hypothesis.\n",
    "\n",
    "\n",
    "|                        |                 H0 is true                 |                  H1 is true                 |\n",
    "|:----------------------:|:------------------------------------------:|:-------------------------------------------:|\n",
    "| **Accept null hypothesis** |        Right decision True negative        | Wrong decision Type II Error False Positive |\n",
    "| **Reject null hypothesis** | Wrong decision Type I Error False negative |         Right decision True positive        |\n",
    "\n",
    "\n",
    "\n",
    "**Examples of Hypothesis Tests**\n",
    "\n",
    "There are many types of statistical hypothesis tests.\n",
    "\n",
    "This section lists some common examples of statistical hypothesis tests and the types of problems that they are used to address:\n",
    "\n",
    "**Variable Distribution Type Tests (Gaussian)**\n",
    "\n",
    "- Shapiro-Wilk Test\n",
    "- D’Agostino’s K^2 Test\n",
    "- Anderson-Darling Test\n",
    "\n",
    "**Variable Relationship Tests (correlation)**\n",
    "\n",
    "- Pearson’s Correlation Coefficient\n",
    "- Spearman’s Rank Correlation\n",
    "- Kendall’s Rank Correlation\n",
    "- Chi-Squared Test\n",
    "\n",
    "**Compare Sample Means (parametric)**\n",
    "\n",
    "- Student’s t-test\n",
    "- Paired Student’s t-test\n",
    "- Analysis of Variance Test (ANOVA)\n",
    "- Repeated Measures ANOVA Test\n",
    "\n",
    "**Compare Sample Means (nonparametric)**\n",
    "\n",
    "- Mann-Whitney U Test\n",
    "- Wilcoxon Signed-Rank Test\n",
    "- Kruskal-Wallis H Test\n",
    "- Friedman Test\n",
    "\n",
    "**Z-test**\n",
    "\n",
    "This test it’s based on the fact that our population has a normal distribution, we know the variance and the sample size is bigger than 30.\n",
    "Because of the Central Limit Theory, the averages have a normal distribution so we don’t need to concern about that. The Z-statistic (or Z-score) is calculated by:\n",
    "\n",
    "\n",
    "**Level of significance**\n",
    "\n",
    "The degree of significance in which we accept or reject the null-hypothesis. This is normally denoted with alpha(maths symbol ) and generally it is 0.05 or 5% , which means your output should be 95% confident to give similar kind of result in each sample. 100% accuracy is not possible for accepting or rejecting a hypothesis, so we therefore select a level of significance that is usually 5%.\n",
    "\n",
    "**One tailed test**\n",
    "\n",
    "A test of a statistical hypothesis , where the region of rejection is on only one side of the sampling distribution , is called a one-tailed test.\n",
    "\n",
    "**Two-tailed test** \n",
    "\n",
    "A two-tailed test is a statistical test in which the critical area of a distribution is two-sided and tests whether a sample is greater than or less than a certain range of values. If the sample being tested falls into either of the critical areas, the alternative hypothesis is accepted instead of the null hypothesis.\n",
    "\n",
    "![](https://www.fromthegenesis.com/wp-content/uploads/2018/06/Types-of-Hypothesis-Tests-696x482.jpg)\n",
    "Source: [https://www.fromthegenesis.com/why-hypothesis-testing/](https://www.fromthegenesis.com/why-hypothesis-testing/)\n",
    "\n",
    "**P-value**\n",
    "\n",
    "The p-value is the probability of observing the test-statistic, as is, given the Null hypothesis is true. And this probability is calculated under the assumption of a certain probability distribution (that the test statistic is generated from)."
   ]
  },
  {
   "cell_type": "markdown",
   "metadata": {},
   "source": [
    "### A simple example\n",
    "(For more examples look [here](https://towardsdatascience.com/demystifying-hypothesis-testing-with-simple-python-examples-4997ad3c5294)). \n",
    "\n",
    "This is a simple hypothesis testing process. We can perform this test if we have a specific fixed mean value to compare. Let’s work on an example to understand the process."
   ]
  },
  {
   "cell_type": "code",
   "execution_count": 10,
   "metadata": {},
   "outputs": [],
   "source": [
    "import numpy as np \n",
    "from scipy.stats import ttest_1samp\n",
    "import seaborn as sns\n",
    "# You have the resting blood pressure of 100 people in the list rest_bp\n",
    "rest_bp = [125,140,145,148,138,100,114,160,120,122,112,132,118,140,128,118,140,124,120,140,140,106,104,135,120,\n",
    "           145,130,136,130,180,120,120,130,160,129,150,125,138,128,128,160,120,130,120,132,140,135,178,146,117,\n",
    "           150,140,138,120,140,140,120,130,152,154,130,146,100,150,130,170,130,136,120,160,170,140,125,140,130,\n",
    "           138,124,140,134,134,140,118,150,138,120,120,140,174,140,144,108,124,140,120,128,138,128,123,110,140]"
   ]
  },
  {
   "cell_type": "markdown",
   "metadata": {},
   "source": [
    "“Check if the mean RestBP is great than 135”. Here, RestBP is resting blood pressure. We have a RestBP column in the DataFrame. Let’s solve this problem step by step.\n",
    "\n",
    "**Step 1:** State the hypothesis\n",
    "\n",
    "We need to find out if the mean RestBP is greater than 135. Let’s assume that the mean RestBP is less than or equal to 135.\n",
    "\n",
    "So, the null hypothesis can be that mean RestBP is 135. Because if we can prove that the mean RestBP is greater than 135, it is automatically greater than 134 or 130.\n",
    "\n",
    "If we find enough evidence to reject the null hypothesis, we can accept that the mean RestBP is greater than 135. This is the alternative hypothesis for this example.\n",
    "\n",
    "$$ H_0: \\mu = 135 $$\n",
    "$$ H_1: \\mu > 135 $$\n",
    "\n",
    "We will check if we can reject the null hypothesis using a **significance level of 0.05**.\n",
    "\n",
    "**Step 2:** Check the assumptions\n",
    "\n",
    "There are two assumptions:\n",
    "\n",
    "- The sample should be a simple random sample.\n",
    "- The data need to be normally distributed.\n",
    "\n",
    "This is a small subset of a dataset from Kaggle (you can find [here](https://www.kaggle.com/johnsmith88/heart-disease-dataset)). For the demonstration purpose, just assume that this is a simple random sample. To check the second assumption, plot the data, and have a look at the distribution."
   ]
  },
  {
   "cell_type": "code",
   "execution_count": 9,
   "metadata": {},
   "outputs": [
    {
     "name": "stderr",
     "output_type": "stream",
     "text": [
      "/home/eike/anaconda3/lib/python3.8/site-packages/seaborn/distributions.py:2557: FutureWarning: `distplot` is a deprecated function and will be removed in a future version. Please adapt your code to use either `displot` (a figure-level function with similar flexibility) or `histplot` (an axes-level function for histograms).\n",
      "  warnings.warn(msg, FutureWarning)\n"
     ]
    },
    {
     "data": {
      "text/plain": [
       "<AxesSubplot:ylabel='Density'>"
      ]
     },
     "execution_count": 9,
     "metadata": {},
     "output_type": "execute_result"
    },
    {
     "data": {
      "image/png": "[encoded data removed]",
      "text/plain": [
       "<Figure size 432x288 with 1 Axes>"
      ]
     },
     "metadata": {
      "needs_background": "light"
     },
     "output_type": "display_data"
    }
   ],
   "source": [
    "sns.distplot(rest_bp)"
   ]
  },
  {
   "cell_type": "markdown",
   "metadata": {},
   "source": [
    "The distribution is not exactly normal. But it is close to normal."
   ]
  },
  {
   "cell_type": "markdown",
   "metadata": {},
   "source": [
    "**Step 3:** Calculate the test statistic"
   ]
  },
  {
   "cell_type": "code",
   "execution_count": 13,
   "metadata": {},
   "outputs": [
    {
     "name": "stdout",
     "output_type": "stream",
     "text": [
      "Mean:  134.0\n",
      "Resting blood pressure of 135:  Ttest_1sampResult(statistic=-0.6902700152880771, pvalue=0.4916394896337448)\n"
     ]
    }
   ],
   "source": [
    "# Calculate the mean:\n",
    "\n",
    "mu = np.mean(rest_bp) # as you can see, you can also use numpy to calculate the mean\n",
    "print(\"Mean: \", mu.round())\n",
    "# Use scipy T-Test to find:\n",
    "# p-value for the resting blood pressure of 135 given the \"rest_bp\" distribution\n",
    "\n",
    "print(\"Resting blood pressure of 135: \", ttest_1samp(rest_bp,135))"
   ]
  },
  {
   "cell_type": "markdown",
   "metadata": {},
   "source": [
    "So our p-value is 0.49, much larger than 0.05. Therefore we **CAN NOT** reject our null hypothesis $H_0$. This means a mean resting blood pressure of 135 could occur by chance for this population."
   ]
  },
  {
   "cell_type": "code",
   "execution_count": null,
   "metadata": {},
   "outputs": [],
   "source": []
  }
 ],
 "metadata": {
  "kernelspec": {
   "display_name": "Python 3",
   "language": "python",
   "name": "python3"
  },
  "language_info": {
   "codemirror_mode": {
    "name": "ipython",
    "version": 3
   },
   "file_extension": ".py",
   "mimetype": "text/x-python",
   "name": "python",
   "nbconvert_exporter": "python",
   "pygments_lexer": "ipython3",
   "version": "3.8.3"
  }
 },
 "nbformat": 4,
 "nbformat_minor": 4
}
