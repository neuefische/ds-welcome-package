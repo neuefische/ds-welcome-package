{
  "nbformat": 4,
  "nbformat_minor": 0,
  "metadata": {
    "colab": {
      "name": "If-then-else.ipynb",
      "provenance": [],
      "collapsed_sections": []
    },
    "kernelspec": {
      "name": "python3",
      "display_name": "Python 3"
    }
  },
  "cells": [
    {
      "cell_type": "markdown",
      "metadata": {
        "id": "btVzLtAXVlye"
      },
      "source": [
        "# If-then statements\n"
      ]
    },
    {
      "cell_type": "markdown",
      "metadata": {
        "id": "C3xDRO0yXb8u"
      },
      "source": [
        "Now that we have a thorough understanding of some data types and how to play with and store them in Python, let's keep building our tools so that we can use them to control the flow of our programs. Till now everytime you ran a cell all of the code lines were executed. But sometimes you might want to run a line of code only under certain circumstances. The simplest way to do this is by using an if-then statement. \n",
        "\n",
        "In this notebook we will...\n",
        "* refresh comparsion operations\n",
        "* learn how to write if-then statements \n"
      ]
    },
    {
      "cell_type": "markdown",
      "metadata": {
        "id": "NDiRKoQWihDZ"
      },
      "source": [
        "## Comparsion operations (a little refresher) \n",
        "\n",
        "As you've already seen in the first Python notebook, Python supports the use of logical conditions from mathematics. Those conditions can be used in various ways, but most often you will find them in if-then statements and loops. We will focus on if-then statements here. Loops are the topic of the next notebook. \n",
        "\n",
        "\n",
        "| Operator | Operation | Description |\n",
        "|----|-----------|-------------|\n",
        "| == | a == b    | a equal to b | \n",
        "| < | a < b    | a less than b | \n",
        "| <= | a <= b   | a less than or equal to b |\n",
        "| > | a > b    | a greater than b  | \n",
        "| >= | a >= b  | a greater than or equal to b | \n",
        "| != | a != b | a not equal to b | \n",
        "\n",
        "\n",
        "Each operation in the table above evaluates to a single boolean value. This can either be `True` or `False`. Based on that we can create a variety of conditions, which we can use in our if statements. Let's jump to the next section to learn how..."
      ]
    },
    {
      "cell_type": "markdown",
      "metadata": {
        "id": "bltLpVEOXaWY"
      },
      "source": [
        "## If-then-else\n"
      ]
    },
    {
      "cell_type": "markdown",
      "metadata": {
        "id": "MMg4BxmVr20L"
      },
      "source": [
        "### If\n",
        "\n",
        "You can control the flow of your programms with a flow control statement. One of the most common and simplest ways to do so is by using an if statement. \n",
        "\n",
        "The general syntax of an if statement in Python is:\n",
        "\n",
        "```\n",
        "if condition:\n",
        "    <do_this_if_condition_true>\n",
        "```\n",
        "\n",
        "The first part of the if statement is called a condition. It starts with the keyword `if` and ends with a colon `:`. \n",
        "The condition of an if statement always has to evaluate to a boolean value. Depending on the outcome the if statement decides wheather the indented code block, also called the clause, will be executed or not. If the condition evaluates to `True` the intendet block will run, if it evaluates to `False` the code will be skipped. \n",
        "\n",
        "> Notice how the if statement, after the condition, ends in a colon `:`. This is the way that Python declares the start of an indentation (empty spaces) block.\n"
      ]
    },
    {
      "cell_type": "code",
      "metadata": {
        "colab": {
          "base_uri": "https://localhost:8080/"
        },
        "id": "aXB_bJyFrJQB",
        "outputId": "c92fa46a-ef00-4faf-adb1-7af1b50e4ab5"
      },
      "source": [
        "# Run the cell and see if the output is what you would expect.\n",
        "# Can you change the value of x so that the condition evaluates to False?\n",
        "\n",
        "x = 7\n",
        "\n",
        "if x > 5:\n",
        "    print(x)"
      ],
      "execution_count": 16,
      "outputs": [
        {
          "output_type": "stream",
          "text": [
            "7\n"
          ],
          "name": "stdout"
        }
      ]
    },
    {
      "cell_type": "code",
      "metadata": {
        "colab": {
          "base_uri": "https://localhost:8080/"
        },
        "id": "h5IrprDLUTIY",
        "outputId": "9ca1ec37-6202-4542-bc80-ab5fa288d89b"
      },
      "source": [
        "# It also works with strings! Change the content of the variable school to somthing else and see what happens.\n",
        "\n",
        "school = \"neuefische\"\n",
        "\n",
        "if school == \"neuefische\":\n",
        "    print(\"Hooray!\")"
      ],
      "execution_count": 19,
      "outputs": [
        {
          "output_type": "stream",
          "text": [
            "Hooray!\n"
          ],
          "name": "stdout"
        }
      ]
    },
    {
      "cell_type": "markdown",
      "metadata": {
        "id": "nJTGUPxgUuye"
      },
      "source": [
        "### Else\n",
        "\n",
        "Every `if` clause can be followed by an (optional) `else` clause. As you can see in the following example the `else` clause does not have a condition. That's because it will only execute when the `if` clause evaluates to `False` and therefore it doesn't need an own condition. \n",
        "\n",
        "```\n",
        "if condition:\n",
        "    <do_this_if_condition_true>\n",
        "else:\n",
        "    <do_this_if_condition_false>\n",
        "````\n"
      ]
    },
    {
      "cell_type": "code",
      "metadata": {
        "colab": {
          "base_uri": "https://localhost:8080/"
        },
        "id": "ymzdZ3BFVFOe",
        "outputId": "6257c984-fbcf-44e8-a598-865126690262"
      },
      "source": [
        "# Feel free to change the number of x to see what happens.\n",
        "x = 7 \n",
        "\n",
        "if x > 10: \n",
        "    print(x)\n",
        "else:\n",
        "    print(\"The number is to small.\")"
      ],
      "execution_count": 21,
      "outputs": [
        {
          "output_type": "stream",
          "text": [
            "The number is to small.\n"
          ],
          "name": "stdout"
        }
      ]
    },
    {
      "cell_type": "markdown",
      "metadata": {
        "id": "28VIvrlAUulR"
      },
      "source": [
        "### Elif\n",
        "\n",
        "Using if and else is great but it's still very limited: Only one of the clauses will execute. \n",
        "\n",
        "You will encounter the situation where you want one of *many* conditions to be executed. Therefore you can use the `elif` statement. `elif` (a combination of the words else and if) always follows an `if` or another `elif` statement. It works like the `if` statment and checks a specific condition. You can add as many `elif`s as you want to your if-then statement. \n",
        "\n",
        "Before you run the next cells try to figure out what the outputs will be."
      ]
    },
    {
      "cell_type": "code",
      "metadata": {
        "colab": {
          "base_uri": "https://localhost:8080/"
        },
        "id": "jLSZL00TYMlg",
        "outputId": "892e83c6-7059-4684-ef13-d121b72adc47"
      },
      "source": [
        "# What do you think this if-then statement will output\n",
        "if (5 < 1):\n",
        "    print(\"It’s sunny today\")\n",
        "else:\n",
        "    print(\"It’s rainy today\")"
      ],
      "execution_count": 33,
      "outputs": [
        {
          "output_type": "stream",
          "text": [
            "It’s rainy today\n"
          ],
          "name": "stdout"
        }
      ]
    },
    {
      "cell_type": "markdown",
      "metadata": {
        "id": "3ycAVHdKaJn_"
      },
      "source": [
        "<details><summary>\n",
        "Click here to see the answer.\n",
        "</summary>\n",
        "\n",
        "The output will be <b>It's rainy today</b> since the expression (5 < 1), which is our condition in this case, evaluates to <b>False</b>.\n",
        "</details>"
      ]
    },
    {
      "cell_type": "code",
      "metadata": {
        "colab": {
          "base_uri": "https://localhost:8080/"
        },
        "id": "fsRWGHTja6Hx",
        "outputId": "2e8bc361-d7f2-432b-a316-607e69ccb97c"
      },
      "source": [
        "# What do you think this if-then statement will output\n",
        "# How can you change x to execute the other code block? \n",
        "x = 10\n",
        "if (x / 2) > 6:\n",
        "    print(\"It’s sunny today\")\n",
        "else:\n",
        "    print(\"It’s rainy today\")"
      ],
      "execution_count": 40,
      "outputs": [
        {
          "output_type": "stream",
          "text": [
            "It’s rainy today\n"
          ],
          "name": "stdout"
        }
      ]
    },
    {
      "cell_type": "markdown",
      "metadata": {
        "id": "Z92YSoZebNrd"
      },
      "source": [
        "<details><summary>\n",
        "Click here to see the answer.\n",
        "</summary>\n",
        "\n",
        "The output will be <b>It's rainy today</b> since x = 10 the condition will be (10 / 2) > 6, which will evaluate to <b>False</b>.\n",
        "\n",
        "To get <b>It's sunny today</b> the condition needs to evaluate to <b>True</b>. Therefore you need to set x to a number bigger than 12.\n",
        "</details>"
      ]
    },
    {
      "cell_type": "markdown",
      "metadata": {
        "id": "p7zwZM5tYack"
      },
      "source": [
        "### User input\n",
        "\n",
        "We can combine our if-then statments with asking a user for input. It's pretty straightforward to ask for user input in Python. We can use the built-in function `input()` for that. In the paranthesis of the function we can write a message or request as a string (remember the quotes?). Since everything we read from the user is automatically stored as a string we have to manually change the typ of the input to an integer in order to compare it to other numbers. As you can see we can do this using `int()`. "
      ]
    },
    {
      "cell_type": "code",
      "metadata": {
        "colab": {
          "base_uri": "https://localhost:8080/"
        },
        "id": "76JYXXdlXrtz",
        "outputId": "03fc9a15-7db3-4377-ecb9-4b301a20cf92"
      },
      "source": [
        "# Asking the user for a number \n",
        "user_input = int(input(\"Please enter a number: \"))\n",
        "\n",
        "if user_input > 0:\n",
        "    print(\"Your number is bigger than 0.\")\n",
        "elif user_input < 0:\n",
        "    print(\"Your number is smaller than 0.\")\n",
        "else:\n",
        "    print(\"Your number is 0.\")"
      ],
      "execution_count": 32,
      "outputs": [
        {
          "output_type": "stream",
          "text": [
            "Please enter a number: 1\n",
            "Your number is bigger than 0.\n"
          ],
          "name": "stdout"
        }
      ]
    },
    {
      "cell_type": "markdown",
      "metadata": {
        "id": "lFJCEnCv2Jen"
      },
      "source": [
        "## Learning Objectives \n",
        "\n",
        "After completing this notebook you should now...\n",
        "* be able to write your own if-then statement (It doesn't have to be the most complex one yet ;))  \n",
        "* be able to ask for user input"
      ]
    },
    {
      "cell_type": "markdown",
      "metadata": {
        "id": "JICFDNYk4E6p"
      },
      "source": [
        "If you're not feeling comfortable yet and need further explanations we can recommend this [book chapter/article]()or this [youtube video]()."
      ]
    },
    {
      "cell_type": "code",
      "metadata": {
        "id": "IhWtchdac86b"
      },
      "source": [
        ""
      ],
      "execution_count": null,
      "outputs": []
    }
  ]
}