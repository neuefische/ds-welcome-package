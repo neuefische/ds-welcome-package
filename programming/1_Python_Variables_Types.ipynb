{
  "nbformat": 4,
  "nbformat_minor": 0,
  "metadata": {
    "kernelspec": {
      "display_name": "Python 3",
      "name": "python3"
    },
    "language_info": {
      "codemirror_mode": {
        "name": "ipython",
        "version": 3
      },
      "file_extension": ".py",
      "mimetype": "text/x-python",
      "name": "python",
      "nbconvert_exporter": "python",
      "pygments_lexer": "ipython3",
      "version": "3.8.3"
    },
    "orig_nbformat": 2,
    "colab": {
      "name": "Intro_Python.ipynb",
      "provenance": []
    }
  },
  "cells": [
    {
      "cell_type": "markdown",
      "metadata": {
        "id": "gfArtQFYM2vF"
      },
      "source": [
        "# Intro to Python"
      ]
    },
    {
      "cell_type": "markdown",
      "metadata": {
        "id": "g01JrxKRM2vL"
      },
      "source": [
        "Welcome to your first notebook on python! \n",
        "\n",
        "In this notebook you will start your journey of becoming a Pythonista and Data Scientist. If you're completely new to programming this is the right place to start. But even if you are already familiar with Python or some of its concepts it will be a good revision to refresh your knowledge. \n",
        "\n",
        "At the end of the notbook you will...\n",
        "* know how to use python as a calculator.\n",
        "* be familiar with pythons concept of variables. \n",
        "* have an overview over Python's data types."
      ]
    },
    {
      "cell_type": "markdown",
      "metadata": {
        "id": "IJcGK6R8M2vM"
      },
      "source": [
        "## A brief little introduction...\n",
        "\n",
        "Python was developed in the late 1980s by Guido van Rossum. It is an interpreted, high-level and general purpose programming language. In comparison to other programming languages Python strives for a simpler, less-cluttered syntax and grammar. Nevertheless it is one of the (if not to say the) preferred and most used language when it comes to Data Science. Its versatility and flexibility in combination with its easy to learn and clean syntax makes it a perfect language for programming beginners. \n",
        "\n",
        "Enough said, let's directly dive into the first lesson. "
      ]
    },
    {
      "cell_type": "markdown",
      "metadata": {
        "id": "Uz23ukSCM2vR"
      },
      "source": [
        "## Numeric Operations\n",
        "\n",
        "At its base level, Python is really just an awesome calculator that can do way more stuff than addition and subtraction. But, let's focus on that functionality for now.\n",
        "\n",
        "All of the simple operations that you think should be available are available. Addition, subtraction, multiplication, division and exponentiation are all accessible via + , - , * , / and ** , respectively."
      ]
    },
    {
      "cell_type": "code",
      "metadata": {
        "colab": {
          "base_uri": "https://localhost:8080/"
        },
        "id": "iE3ERx9pNhr-",
        "outputId": "48e68e5b-a4ee-4c42-f477-9d372e92ad1a"
      },
      "source": [
        "7 + 8"
      ],
      "execution_count": 1,
      "outputs": [
        {
          "output_type": "execute_result",
          "data": {
            "text/plain": [
              "15"
            ]
          },
          "metadata": {
            "tags": []
          },
          "execution_count": 1
        }
      ]
    },
    {
      "cell_type": "code",
      "metadata": {
        "colab": {
          "base_uri": "https://localhost:8080/"
        },
        "id": "G_dY7ba6NoMm",
        "outputId": "c4221237-1567-4ffd-aa32-1d92b375706b"
      },
      "source": [
        "7 - 8"
      ],
      "execution_count": 2,
      "outputs": [
        {
          "output_type": "execute_result",
          "data": {
            "text/plain": [
              "-1"
            ]
          },
          "metadata": {
            "tags": []
          },
          "execution_count": 2
        }
      ]
    },
    {
      "cell_type": "code",
      "metadata": {
        "colab": {
          "base_uri": "https://localhost:8080/"
        },
        "id": "kuYct8w5NpbK",
        "outputId": "d9db79bd-fb76-4ee9-a036-7e7ec13ac239"
      },
      "source": [
        "7 * 8"
      ],
      "execution_count": 3,
      "outputs": [
        {
          "output_type": "execute_result",
          "data": {
            "text/plain": [
              "56"
            ]
          },
          "metadata": {
            "tags": []
          },
          "execution_count": 3
        }
      ]
    },
    {
      "cell_type": "code",
      "metadata": {
        "colab": {
          "base_uri": "https://localhost:8080/"
        },
        "id": "aqEwvZ4CNqfp",
        "outputId": "beb6f535-6d2b-48ef-f254-5a155012b9b8"
      },
      "source": [
        "7 / 8"
      ],
      "execution_count": 4,
      "outputs": [
        {
          "output_type": "execute_result",
          "data": {
            "text/plain": [
              "0.875"
            ]
          },
          "metadata": {
            "tags": []
          },
          "execution_count": 4
        }
      ]
    },
    {
      "cell_type": "code",
      "metadata": {
        "colab": {
          "base_uri": "https://localhost:8080/"
        },
        "id": "_5dDFIvZNr6g",
        "outputId": "dc1c6668-5b54-42c7-bbb3-6a95ae41bad1"
      },
      "source": [
        "7 ** 8"
      ],
      "execution_count": 5,
      "outputs": [
        {
          "output_type": "execute_result",
          "data": {
            "text/plain": [
              "5764801"
            ]
          },
          "metadata": {
            "tags": []
          },
          "execution_count": 5
        }
      ]
    },
    {
      "cell_type": "markdown",
      "metadata": {
        "id": "sB76f_UrOJOH"
      },
      "source": [
        "\n",
        "Perfekt. All of these operations output exactly what we think they would.\n",
        "\n",
        "Besides those simple operators you can also find on any calculator Python offers two more arithmetic operators which might be new to you: // and %.\n",
        "The double slash // is called floor division. All it does is perform division and truncate the result. So where 7 / 8 gave us 0.875, 7 // 8 cuts off after the 0. giving us 0."
      ]
    },
    {
      "cell_type": "code",
      "metadata": {
        "colab": {
          "base_uri": "https://localhost:8080/"
        },
        "id": "epd5O0jyObjA",
        "outputId": "fb075e22-f038-4164-b282-cb483c3a642a"
      },
      "source": [
        "7 // 8"
      ],
      "execution_count": 6,
      "outputs": [
        {
          "output_type": "execute_result",
          "data": {
            "text/plain": [
              "0"
            ]
          },
          "metadata": {
            "tags": []
          },
          "execution_count": 6
        }
      ]
    },
    {
      "cell_type": "markdown",
      "metadata": {
        "id": "urGZkhhZOSit"
      },
      "source": [
        "\n",
        "The last operation that we will go over is the modular division operator, % (also called modulo). This operation is the sibling to //. As you can see in the following example the // gives us the integer number of times that 7 goes into 71. But, there is still a remainder of one. The way we get the remainder of integer division is with the % operator."
      ]
    },
    {
      "cell_type": "code",
      "metadata": {
        "colab": {
          "base_uri": "https://localhost:8080/"
        },
        "id": "MAAE_-HWOfm7",
        "outputId": "2618124c-e429-4228-b1ac-f14a487a9b49"
      },
      "source": [
        "71 // 7   # floor division"
      ],
      "execution_count": 7,
      "outputs": [
        {
          "output_type": "execute_result",
          "data": {
            "text/plain": [
              "10"
            ]
          },
          "metadata": {
            "tags": []
          },
          "execution_count": 7
        }
      ]
    },
    {
      "cell_type": "code",
      "metadata": {
        "colab": {
          "base_uri": "https://localhost:8080/"
        },
        "id": "5u_Tn8DbOmKX",
        "outputId": "e16ec356-972a-4c73-fa39-2f1b6d0d2604"
      },
      "source": [
        "71 % 7    # modulo "
      ],
      "execution_count": 8,
      "outputs": [
        {
          "output_type": "execute_result",
          "data": {
            "text/plain": [
              "1"
            ]
          },
          "metadata": {
            "tags": []
          },
          "execution_count": 8
        }
      ]
    },
    {
      "cell_type": "markdown",
      "metadata": {
        "id": "Odr77fECOt0J"
      },
      "source": [
        "You can change the order in which operations get performed by using parenthesis (), just as you can in algebra."
      ]
    },
    {
      "cell_type": "code",
      "metadata": {
        "colab": {
          "base_uri": "https://localhost:8080/"
        },
        "id": "ANgCbnEcOutU",
        "outputId": "7eedb534-5e12-42a8-8dbb-59006413953d"
      },
      "source": [
        "4 + 5 * 3"
      ],
      "execution_count": 9,
      "outputs": [
        {
          "output_type": "execute_result",
          "data": {
            "text/plain": [
              "19"
            ]
          },
          "metadata": {
            "tags": []
          },
          "execution_count": 9
        }
      ]
    },
    {
      "cell_type": "code",
      "metadata": {
        "colab": {
          "base_uri": "https://localhost:8080/"
        },
        "id": "FSJz2eBCOwZR",
        "outputId": "ae99859a-983d-4e7f-dff4-0a4180e2be47"
      },
      "source": [
        "(4 + 5) * 3"
      ],
      "execution_count": 10,
      "outputs": [
        {
          "output_type": "execute_result",
          "data": {
            "text/plain": [
              "27"
            ]
          },
          "metadata": {
            "tags": []
          },
          "execution_count": 10
        }
      ]
    },
    {
      "cell_type": "markdown",
      "metadata": {
        "id": "oLsL77UovgvS"
      },
      "source": [
        "At this point we also want to introduce some simple functions which you will encounter during your daily work as a Data Scientist. (Don't worry if you don't know what a function is. We will cover this in another notebook.)\n",
        "\n",
        "`abs()`, `min()`, `max()` and `round()` are usefull littel funcitons which will make your life a lot easier. As their names already imply `abs()` will return the absolut value of a number, `min()` and `max()` will return the minimum respectively maximum of a bunch of numbers and `round()` will round a number to a given amount of decimals."
      ]
    },
    {
      "cell_type": "code",
      "metadata": {
        "colab": {
          "base_uri": "https://localhost:8080/"
        },
        "id": "32LPzJNUvu__",
        "outputId": "e615a593-ff59-4b0a-e345-529283844afd"
      },
      "source": [
        "abs(3.14)"
      ],
      "execution_count": 11,
      "outputs": [
        {
          "output_type": "execute_result",
          "data": {
            "text/plain": [
              "3.14"
            ]
          },
          "metadata": {
            "tags": []
          },
          "execution_count": 11
        }
      ]
    },
    {
      "cell_type": "code",
      "metadata": {
        "colab": {
          "base_uri": "https://localhost:8080/"
        },
        "id": "w27ravqvugoq",
        "outputId": "9b756bb1-8d96-4d84-afb5-0ee79e1781fc"
      },
      "source": [
        "abs(-3.41)\n"
      ],
      "execution_count": 12,
      "outputs": [
        {
          "output_type": "execute_result",
          "data": {
            "text/plain": [
              "3.41"
            ]
          },
          "metadata": {
            "tags": []
          },
          "execution_count": 12
        }
      ]
    },
    {
      "cell_type": "code",
      "metadata": {
        "colab": {
          "base_uri": "https://localhost:8080/"
        },
        "id": "R0-wIjfM_J7T",
        "outputId": "7dc624f8-852d-4e7f-d366-099f0255ad31"
      },
      "source": [
        "min(3, 5, 1, 6, 8, 9)"
      ],
      "execution_count": 13,
      "outputs": [
        {
          "output_type": "execute_result",
          "data": {
            "text/plain": [
              "1"
            ]
          },
          "metadata": {
            "tags": []
          },
          "execution_count": 13
        }
      ]
    },
    {
      "cell_type": "code",
      "metadata": {
        "colab": {
          "base_uri": "https://localhost:8080/"
        },
        "id": "FqBtOsgv_M5-",
        "outputId": "54d87491-4106-4d6c-e907-bd1f0567798e"
      },
      "source": [
        "max(3, 5, 1, 6, 8, 9)"
      ],
      "execution_count": 14,
      "outputs": [
        {
          "output_type": "execute_result",
          "data": {
            "text/plain": [
              "9"
            ]
          },
          "metadata": {
            "tags": []
          },
          "execution_count": 14
        }
      ]
    },
    {
      "cell_type": "code",
      "metadata": {
        "colab": {
          "base_uri": "https://localhost:8080/"
        },
        "id": "XRhuZMJj-9vt",
        "outputId": "9fba2a6c-50e6-45f9-aa5f-21a4fba091d5"
      },
      "source": [
        "round(5.23412, 2)   # you can specify the amount of decimals after the comma"
      ],
      "execution_count": 15,
      "outputs": [
        {
          "output_type": "execute_result",
          "data": {
            "text/plain": [
              "5.23"
            ]
          },
          "metadata": {
            "tags": []
          },
          "execution_count": 15
        }
      ]
    },
    {
      "cell_type": "markdown",
      "metadata": {
        "id": "L4n2RJ7aO1OC"
      },
      "source": [
        "**Questions:**\n",
        "\n",
        "What do you think the results of the following computations will be?\n",
        "\n",
        "1. 8.0 - 7\n",
        "2. 8 * 0.25\n",
        "3. 5 ** 2\n",
        "4. 17 // 5\n",
        "5. (4 + 5) / 6\n",
        "6. (46 / 8) % 2\n",
        "7. abs(-7.9)\n",
        "8. round(6.293764, 3)"
      ]
    },
    {
      "cell_type": "markdown",
      "metadata": {
        "id": "r5zfHBWDF50c"
      },
      "source": [
        "<details><summary>\n",
        "Click here for the answers.\n",
        "</summary>\n",
        "1. 1.0 \n",
        "2. 2.0\n",
        "3. 25\n",
        "4. 3\n",
        "5. 1.5\n",
        "6. 1.75\n",
        "7. 7.9\n",
        "8. 6.294\n",
        "</details>"
      ]
    },
    {
      "cell_type": "markdown",
      "metadata": {
        "id": "8FsAtR0tQrhI"
      },
      "source": [
        "## Variables"
      ]
    },
    {
      "cell_type": "markdown",
      "metadata": {
        "id": "Xi9hR-sgRPji"
      },
      "source": [
        "One of the most powerful constructs in programming is the ability to store arbitrary values in what we call variables. You can think of variable assignment as giving a name to something so that it can be accessed later by different parts of your program.\n",
        "\n",
        "In Python, variable assignment occurs with the `=` operator. To assign a value to a variable name (i.e. declare it), you simply put the variable name on the left side of the = and the value you want to associate with that variable name on the right side. Once this has happened, you can access the value in the variable simply by using it's name somewhere later in your code."
      ]
    },
    {
      "cell_type": "code",
      "metadata": {
        "id": "y2ImxFNdQmU8"
      },
      "source": [
        "x = 5\n",
        "y = 2"
      ],
      "execution_count": 16,
      "outputs": []
    },
    {
      "cell_type": "code",
      "metadata": {
        "colab": {
          "base_uri": "https://localhost:8080/"
        },
        "id": "af-trpuORRP-",
        "outputId": "e48ec73a-2053-42c0-97ef-f428f065db15"
      },
      "source": [
        "x"
      ],
      "execution_count": 17,
      "outputs": [
        {
          "output_type": "execute_result",
          "data": {
            "text/plain": [
              "5"
            ]
          },
          "metadata": {
            "tags": []
          },
          "execution_count": 17
        }
      ]
    },
    {
      "cell_type": "code",
      "metadata": {
        "colab": {
          "base_uri": "https://localhost:8080/"
        },
        "id": "z63TMHsVRRiT",
        "outputId": "8ca9c591-9688-47f2-acd6-f235da4cc1af"
      },
      "source": [
        "x - 4"
      ],
      "execution_count": 18,
      "outputs": [
        {
          "output_type": "execute_result",
          "data": {
            "text/plain": [
              "1"
            ]
          },
          "metadata": {
            "tags": []
          },
          "execution_count": 18
        }
      ]
    },
    {
      "cell_type": "code",
      "metadata": {
        "colab": {
          "base_uri": "https://localhost:8080/"
        },
        "id": "fqjPyjYvRRvX",
        "outputId": "25b007e3-6eef-4d2b-e344-013806b1d5ad"
      },
      "source": [
        "x + y"
      ],
      "execution_count": 19,
      "outputs": [
        {
          "output_type": "execute_result",
          "data": {
            "text/plain": [
              "7"
            ]
          },
          "metadata": {
            "tags": []
          },
          "execution_count": 19
        }
      ]
    },
    {
      "cell_type": "markdown",
      "metadata": {
        "id": "uPdw_CEZRuz4"
      },
      "source": [
        "The name you can give a variable can technically be any contiguous set of characters, but there are some conventions followed in Python and programming in general. Python follows a variable naming convention called snake case. To write something in snake case, simply use a _ anywhere you would use a space, and make sure every word is lower case. For example, `this_is_a_variable`. Giving variables good names makes your code more readable and therefore maintainable. There is a big difference between seeing a variable called `degrees` and one called `y`. You should strive to give your variables well-defined, succinct names.\n",
        "\n",
        "There are of course cases where using less than descriptive variable names follows convention and are, therefore, just fine to use. A common example is the use of `i` to keep track of an index. Because of its prevalent usage for indexing, it is usually easy to understand what is happening in that context when all you see is the varible name `i`. Here, the lack of descriptiveness is okay. The important thing is that the code is **understandable**.\n"
      ]
    },
    {
      "cell_type": "markdown",
      "metadata": {
        "id": "otjxRJCCSK6k"
      },
      "source": [
        "Note that we saw no output from either x = 5 or y = 2 above. This is because the return value that would have been printed as output was assigned to the variables x and y, respectively. This is why we had to view them in the next lines.\n",
        "\n",
        "A large part of variables' power is the fact that they can change (vary, if you will). This allows us to use a single variable name to keep track of a specific thing throughout the life of a program. Remember how we assigned the value 5 to x above? The exact same syntax can be used to change the value stored in the variable.\n",
        "\n",
        "Say we want to make the value of x five more than it currently is. All we need to do is have x be assigned the value that results from adding 5 to x."
      ]
    },
    {
      "cell_type": "code",
      "metadata": {
        "colab": {
          "base_uri": "https://localhost:8080/"
        },
        "id": "uN1KtyetSJ82",
        "outputId": "b6cd096b-3af9-4b4e-9a7a-a0aebb3b3ac1"
      },
      "source": [
        "x = x + 5\n",
        "x"
      ],
      "execution_count": 20,
      "outputs": [
        {
          "output_type": "execute_result",
          "data": {
            "text/plain": [
              "10"
            ]
          },
          "metadata": {
            "tags": []
          },
          "execution_count": 20
        }
      ]
    },
    {
      "cell_type": "markdown",
      "metadata": {
        "id": "CRpsOOxkSmOK"
      },
      "source": [
        "Notice how the first line above is formatted. Python knows that the = means variable assignment, so when it sees the first line it evaluates the right side of the equals and then puts that value in x, even though x is part of the calculation on the right side. x is now connected with this new value and the old value is gone.\n",
        "\n",
        "Changing variables in this way occurs so commonly that there is a built-in shorthand for it. The result of the first line could have been achieved with x += 5. This syntactic sugar is available for all the simple operations +, -, *, /, **, and % that we covered earlier."
      ]
    },
    {
      "cell_type": "markdown",
      "metadata": {
        "id": "8FcX32_fSueI"
      },
      "source": [
        "**Questions:**\n",
        "\n",
        "Consider the following code:\n",
        "```\n",
        "x = 5\n",
        "y = 8\n",
        "x += y\n",
        "y = x - 3\n",
        "x -= y - 5\n",
        "```\n",
        "\n",
        "What are the values of x and y after each line?"
      ]
    },
    {
      "cell_type": "markdown",
      "metadata": {
        "id": "ZvlWqlKiTBar"
      },
      "source": [
        "<details><summary>\n",
        "Click here to see the values for x and y after the last line.\n",
        "</summary>\n",
        "x = 8;  \n",
        "y = 10\n",
        "</details>"
      ]
    },
    {
      "cell_type": "markdown",
      "metadata": {
        "id": "yXYlR6fNaXBT"
      },
      "source": [
        "## Types\n",
        "\n",
        "You successfully used python as a simple calculator and learned how to use variables! The last topic we will cover in this notebook are data types. \n",
        "\n",
        "Data type is an important concept in programming. Variables can store data in different types and different types can do different things.\n",
        "\n",
        "We will cover some of Python's built in data types in the following section. \n",
        "\n",
        "> Maybe you have heard or read that an important characteristic of Python is that it is a **duck typed** language. What does this mean? The name duck comes from the classic \"If it walks like a duck, and quacks like a duck, then it must be a duck\" adage. As applied to our situation, it simply means that Python will determine what it thinks is the best type to call a variable when you use it, unless explicitly told otherwise."
      ]
    },
    {
      "cell_type": "markdown",
      "metadata": {
        "id": "IPi_Wa9hM2vM"
      },
      "source": [
        "### Numeric types\n",
        "\n",
        "Python has a lot of different data types. You've already used some of the base numeric types, which are built into Python. All of those represent a very simple idea, numbers. Numbers can be either `ints`, short for integers, `floats`, short for floating point/decimal numbers, or `complex`, which contain real and imaginary parts stored as floats."
      ]
    },
    {
      "cell_type": "code",
      "metadata": {
        "colab": {
          "base_uri": "https://localhost:8080/"
        },
        "id": "Fxd_uzIBM2vN",
        "outputId": "8b5da531-d5ee-45b1-a862-0793904749ff"
      },
      "source": [
        "7   # int "
      ],
      "execution_count": 21,
      "outputs": [
        {
          "output_type": "execute_result",
          "data": {
            "text/plain": [
              "7"
            ]
          },
          "metadata": {
            "tags": []
          },
          "execution_count": 21
        }
      ]
    },
    {
      "cell_type": "code",
      "metadata": {
        "colab": {
          "base_uri": "https://localhost:8080/"
        },
        "id": "9TPXYuXZM2vO",
        "outputId": "f2f497a7-3410-4d2b-e452-5d491ddfa076"
      },
      "source": [
        "3.5   # float"
      ],
      "execution_count": 22,
      "outputs": [
        {
          "output_type": "execute_result",
          "data": {
            "text/plain": [
              "3.5"
            ]
          },
          "metadata": {
            "tags": []
          },
          "execution_count": 22
        }
      ]
    },
    {
      "cell_type": "code",
      "metadata": {
        "colab": {
          "base_uri": "https://localhost:8080/"
        },
        "id": "JEh5Ee-1M2vO",
        "outputId": "b1fbdacc-9e57-4519-c7cb-3f199d2077b8"
      },
      "source": [
        "complex(3, 6)   # complex"
      ],
      "execution_count": 23,
      "outputs": [
        {
          "output_type": "execute_result",
          "data": {
            "text/plain": [
              "(3+6j)"
            ]
          },
          "metadata": {
            "tags": []
          },
          "execution_count": 23
        }
      ]
    },
    {
      "cell_type": "markdown",
      "metadata": {
        "id": "yGgfhspsd44a"
      },
      "source": [
        "To inspect what type Python thinks a numeric (or anything else) is, you can pass it to the type() function. Let's see what we get out when we pass numbers of various types to this function."
      ]
    },
    {
      "cell_type": "code",
      "metadata": {
        "colab": {
          "base_uri": "https://localhost:8080/"
        },
        "id": "pOndrc6-M2vP",
        "outputId": "0ef6c166-68ac-4728-dfc7-7628594cd906"
      },
      "source": [
        "type(7)"
      ],
      "execution_count": 24,
      "outputs": [
        {
          "output_type": "execute_result",
          "data": {
            "text/plain": [
              "int"
            ]
          },
          "metadata": {
            "tags": []
          },
          "execution_count": 24
        }
      ]
    },
    {
      "cell_type": "code",
      "metadata": {
        "colab": {
          "base_uri": "https://localhost:8080/"
        },
        "id": "MUNM_MS9M2vP",
        "outputId": "c29675ec-3102-4146-e590-ce1a368182b9"
      },
      "source": [
        "type(3.5)"
      ],
      "execution_count": 25,
      "outputs": [
        {
          "output_type": "execute_result",
          "data": {
            "text/plain": [
              "float"
            ]
          },
          "metadata": {
            "tags": []
          },
          "execution_count": 25
        }
      ]
    },
    {
      "cell_type": "code",
      "metadata": {
        "colab": {
          "base_uri": "https://localhost:8080/"
        },
        "id": "YcXj8lzIM2vQ",
        "outputId": "c97a7788-fec1-4348-81e0-8f15bbb346ba"
      },
      "source": [
        "type(complex(3, 6))"
      ],
      "execution_count": 26,
      "outputs": [
        {
          "output_type": "execute_result",
          "data": {
            "text/plain": [
              "complex"
            ]
          },
          "metadata": {
            "tags": []
          },
          "execution_count": 26
        }
      ]
    },
    {
      "cell_type": "markdown",
      "metadata": {
        "id": "9zL2XNDDM2vQ"
      },
      "source": [
        "As you can see, Python assumes that a number with no decimal point is an `int`, those with a decimal point a `float`, and (surprise!) those from the complex() constructor as `complex`.\n",
        "\n",
        "\n",
        "Frequently, these subtle differences wont matter too much. However, there will be times when this implementation detail will make you think that something will work, when really it won't. Knowing how to check the type of something will help you solve any of these potential problems."
      ]
    },
    {
      "cell_type": "markdown",
      "metadata": {
        "id": "lYACCkuAd_U-"
      },
      "source": [
        "### String\n",
        "\n",
        "Besides numeric types Python has a special type for text. This data type called `string` or short `str` represents sequences of characters. A string can contain as many characters as you want. While other programming languages have a special type called `char` for single characters, in Python single characters are also designated as `string`. Strings can also be empty or contain numbers. \n",
        "To make it clear for Python that something is a string you can use double  `\" \"` or single `' '` quotes. All characters between an opening delimiter and a matching closing delimiter are part of the string."
      ]
    },
    {
      "cell_type": "code",
      "metadata": {
        "colab": {
          "base_uri": "https://localhost:8080/",
          "height": 35
        },
        "id": "ir42IRTJgX3M",
        "outputId": "a65610d5-c845-4fb5-99a3-d7f0eed3d3f7"
      },
      "source": [
        "\"Welcome at neuefische!\""
      ],
      "execution_count": 27,
      "outputs": [
        {
          "output_type": "execute_result",
          "data": {
            "application/vnd.google.colaboratory.intrinsic+json": {
              "type": "string"
            },
            "text/plain": [
              "'Welcome at neuefische!'"
            ]
          },
          "metadata": {
            "tags": []
          },
          "execution_count": 27
        }
      ]
    },
    {
      "cell_type": "code",
      "metadata": {
        "colab": {
          "base_uri": "https://localhost:8080/",
          "height": 35
        },
        "id": "MoZ-rybkgcYN",
        "outputId": "798c32aa-0013-44ff-cf4a-85b97ead0273"
      },
      "source": [
        "'We are looking forward to meeting you all soon :)'"
      ],
      "execution_count": 28,
      "outputs": [
        {
          "output_type": "execute_result",
          "data": {
            "application/vnd.google.colaboratory.intrinsic+json": {
              "type": "string"
            },
            "text/plain": [
              "'We are looking forward to meeting you all soon :)'"
            ]
          },
          "metadata": {
            "tags": []
          },
          "execution_count": 28
        }
      ]
    },
    {
      "cell_type": "code",
      "metadata": {
        "colab": {
          "base_uri": "https://localhost:8080/"
        },
        "id": "GgLacSa6gQaQ",
        "outputId": "9840f36f-31fb-48f0-fe00-498b6c63ed64"
      },
      "source": [
        "type(\"We hope you are also excited.\")"
      ],
      "execution_count": 29,
      "outputs": [
        {
          "output_type": "execute_result",
          "data": {
            "text/plain": [
              "str"
            ]
          },
          "metadata": {
            "tags": []
          },
          "execution_count": 29
        }
      ]
    },
    {
      "cell_type": "code",
      "metadata": {
        "colab": {
          "base_uri": "https://localhost:8080/"
        },
        "id": "DCCI7lNl5k_1",
        "outputId": "b361b6c0-f68b-451f-b0c9-dda4ef443711"
      },
      "source": [
        "type('')"
      ],
      "execution_count": 30,
      "outputs": [
        {
          "output_type": "execute_result",
          "data": {
            "text/plain": [
              "str"
            ]
          },
          "metadata": {
            "tags": []
          },
          "execution_count": 30
        }
      ]
    },
    {
      "cell_type": "code",
      "metadata": {
        "colab": {
          "base_uri": "https://localhost:8080/"
        },
        "id": "-oqSpun2gwz_",
        "outputId": "6f9e20d0-eb1c-4066-a9e0-c5762f15f4e5"
      },
      "source": [
        "type(\"A\")"
      ],
      "execution_count": 31,
      "outputs": [
        {
          "output_type": "execute_result",
          "data": {
            "text/plain": [
              "str"
            ]
          },
          "metadata": {
            "tags": []
          },
          "execution_count": 31
        }
      ]
    },
    {
      "cell_type": "code",
      "metadata": {
        "colab": {
          "base_uri": "https://localhost:8080/"
        },
        "id": "hn-h1i-KgsIh",
        "outputId": "17ab5873-8683-4d3f-b1d6-68ed3744d17e"
      },
      "source": [
        "type(\"8128\")"
      ],
      "execution_count": 32,
      "outputs": [
        {
          "output_type": "execute_result",
          "data": {
            "text/plain": [
              "str"
            ]
          },
          "metadata": {
            "tags": []
          },
          "execution_count": 32
        }
      ]
    },
    {
      "cell_type": "markdown",
      "metadata": {
        "id": "vsauB8yUg14-"
      },
      "source": [
        "### Bool\n",
        "\n"
      ]
    },
    {
      "cell_type": "markdown",
      "metadata": {
        "id": "yyJ8OZ2U5z2h"
      },
      "source": [
        "Python has a type of variable called `bool`. It has two possible values: `True` and `False`. \n",
        "\n",
        "> Note that the boolean values `True` and `False` begin with capital letters. Python is a case sensitive language. That means True and true are not the same!\n"
      ]
    },
    {
      "cell_type": "code",
      "metadata": {
        "colab": {
          "base_uri": "https://localhost:8080/"
        },
        "id": "qwda3_Vb56Wp",
        "outputId": "b8fa1e08-1580-4064-ea2f-b33c3d40cf04"
      },
      "source": [
        "True"
      ],
      "execution_count": 33,
      "outputs": [
        {
          "output_type": "execute_result",
          "data": {
            "text/plain": [
              "True"
            ]
          },
          "metadata": {
            "tags": []
          },
          "execution_count": 33
        }
      ]
    },
    {
      "cell_type": "code",
      "metadata": {
        "colab": {
          "base_uri": "https://localhost:8080/"
        },
        "id": "zThO9Cmd58Kn",
        "outputId": "0d3e67e2-9169-4561-e153-64de4b2ea752"
      },
      "source": [
        "False"
      ],
      "execution_count": 34,
      "outputs": [
        {
          "output_type": "execute_result",
          "data": {
            "text/plain": [
              "False"
            ]
          },
          "metadata": {
            "tags": []
          },
          "execution_count": 34
        }
      ]
    },
    {
      "cell_type": "code",
      "metadata": {
        "colab": {
          "base_uri": "https://localhost:8080/"
        },
        "id": "OUwADLGQ58D9",
        "outputId": "2374b159-c2d5-4958-bed0-a6dd2b77384a"
      },
      "source": [
        "type(True)"
      ],
      "execution_count": 35,
      "outputs": [
        {
          "output_type": "execute_result",
          "data": {
            "text/plain": [
              "bool"
            ]
          },
          "metadata": {
            "tags": []
          },
          "execution_count": 35
        }
      ]
    },
    {
      "cell_type": "code",
      "metadata": {
        "colab": {
          "base_uri": "https://localhost:8080/"
        },
        "id": "hwmCWX6S5780",
        "outputId": "227b9425-2a36-4669-d99d-b8679379e839"
      },
      "source": [
        "type(False)"
      ],
      "execution_count": 36,
      "outputs": [
        {
          "output_type": "execute_result",
          "data": {
            "text/plain": [
              "bool"
            ]
          },
          "metadata": {
            "tags": []
          },
          "execution_count": 36
        }
      ]
    },
    {
      "cell_type": "markdown",
      "metadata": {
        "id": "_ZzBYIPE6w55"
      },
      "source": [
        "Instead of putting `True` or `False` directly into our code, we usually get those boolean values from comparison operations, which can either evaluate to `True` or `False`. The following table gives an overview over the possible comparison operations and the operators used in Python. \n",
        "\n",
        "| Operator | Operation | Description |\n",
        "|----|-----------|-------------|\n",
        "| == | a == b    | a equal to b | \n",
        "| < | a < b    | a less than b | \n",
        "| <= | a <= b   | a less than or equal to b |\n",
        "| > | a > b    | a greater than b  | \n",
        "| >= | a >= b  | a greater than or equal to b | \n",
        "| != | a != b | a not equal to b | "
      ]
    },
    {
      "cell_type": "code",
      "metadata": {
        "colab": {
          "base_uri": "https://localhost:8080/"
        },
        "id": "9m2NgPSZu1rJ",
        "outputId": "195dd21a-ad70-4566-b898-d3d02f0103de"
      },
      "source": [
        "1 == 1\n"
      ],
      "execution_count": 37,
      "outputs": [
        {
          "output_type": "execute_result",
          "data": {
            "text/plain": [
              "True"
            ]
          },
          "metadata": {
            "tags": []
          },
          "execution_count": 37
        }
      ]
    },
    {
      "cell_type": "code",
      "metadata": {
        "colab": {
          "base_uri": "https://localhost:8080/"
        },
        "id": "E138BHyM8ZUV",
        "outputId": "93fc120d-6467-43cf-8a63-74853c27eccf"
      },
      "source": [
        "7 < 5"
      ],
      "execution_count": 38,
      "outputs": [
        {
          "output_type": "execute_result",
          "data": {
            "text/plain": [
              "False"
            ]
          },
          "metadata": {
            "tags": []
          },
          "execution_count": 38
        }
      ]
    },
    {
      "cell_type": "code",
      "metadata": {
        "colab": {
          "base_uri": "https://localhost:8080/"
        },
        "id": "56sydtXu8bp1",
        "outputId": "bbc0cf6f-5678-427a-cb90-972f491d7289"
      },
      "source": [
        "3 >= 3"
      ],
      "execution_count": 39,
      "outputs": [
        {
          "output_type": "execute_result",
          "data": {
            "text/plain": [
              "True"
            ]
          },
          "metadata": {
            "tags": []
          },
          "execution_count": 39
        }
      ]
    },
    {
      "cell_type": "markdown",
      "metadata": {
        "id": "cIHQ1uYX9VBo"
      },
      "source": [
        "You will have to deal a lot with booleans and one characteristic is especially interesting from the Data Scienctist's perspective. \n",
        "\n",
        "If you convert `True` or `False` to an integer using `int()` you will always get 1 for `True` and 0 for `False`. This will come in handy in some situations. "
      ]
    },
    {
      "cell_type": "code",
      "metadata": {
        "colab": {
          "base_uri": "https://localhost:8080/"
        },
        "id": "BrdWZMMuDpPZ",
        "outputId": "80b4b762-f5a8-43af-d14a-71cee62098b4"
      },
      "source": [
        "int(True)"
      ],
      "execution_count": 40,
      "outputs": [
        {
          "output_type": "execute_result",
          "data": {
            "text/plain": [
              "1"
            ]
          },
          "metadata": {
            "tags": []
          },
          "execution_count": 40
        }
      ]
    },
    {
      "cell_type": "code",
      "metadata": {
        "colab": {
          "base_uri": "https://localhost:8080/"
        },
        "id": "E28eFJ1R6GME",
        "outputId": "d9c8dd3a-161b-4a53-8a7f-1cc983076d33"
      },
      "source": [
        "int(False)"
      ],
      "execution_count": 41,
      "outputs": [
        {
          "output_type": "execute_result",
          "data": {
            "text/plain": [
              "0"
            ]
          },
          "metadata": {
            "tags": []
          },
          "execution_count": 41
        }
      ]
    },
    {
      "cell_type": "markdown",
      "metadata": {
        "id": "yqTZg9wQM2vQ"
      },
      "source": [
        "**Questions:**\n",
        "\n",
        "Determine the type of the following:\n",
        "\n",
        "1. \" \"\n",
        "2. 231.54\n",
        "3. True\n",
        "4. 96\n",
        "5. \"Hello\"\n",
        "6. 4 + 3i\n",
        "7. '203 + 45i'\n"
      ]
    },
    {
      "cell_type": "markdown",
      "metadata": {
        "id": "rXb6R6-2M2vQ"
      },
      "source": [
        "<details><summary>\n",
        "Click here for the answers.\n",
        "</summary>\n",
        "1. string \n",
        "2. float\n",
        "3. bool\n",
        "4. integer\n",
        "5. string\n",
        "6. complex\n",
        "7. string\n",
        "</details>\n"
      ]
    }
  ]
}