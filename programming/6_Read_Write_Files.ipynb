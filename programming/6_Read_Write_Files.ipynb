{
 "cells": [
  {
   "cell_type": "markdown",
   "metadata": {},
   "source": [
    "To open this notebook in Google Colab and start coding, click on the Colab icon below.\n",
    "<table style=\"border:2px solid orange\" align=\"left\">\n",
    "  <td style=\"border:2px solid orange \">\n",
    "    <a target=\"_blank\" href=\"https://colab.research.google.com/github/neuefische/ds-welcome-package/blob/readme-update/programming/6_Read_Write_Files.ipynb\"><img src=\"https://www.tensorflow.org/images/colab_logo_32px.png\" />Run in Google Colab</a>\n",
    "  </td>\n",
    "</table>"
   ]
  },
  {
   "cell_type": "markdown",
   "metadata": {},
   "source": [
    "---\n",
    "# Reading and writing from files\n",
    "\n",
    "In this lesson we will learn how to read from webpages and regular files.\n",
    "Oftentimes we need to process information that is stored in documents. How can we have access to that?"
   ]
  },
  {
   "cell_type": "markdown",
   "metadata": {},
   "source": [
    "It's quite easy! We simply indicate where we want the information from and the we store that information in some variables so we can process it inside our program.\n",
    "\n",
    "This works on the local machine, but might not work on colab. "
   ]
  },
  {
   "cell_type": "markdown",
   "metadata": {},
   "source": [
    "### Writing to a file\n",
    "\n",
    "```\n",
    "file = open(\"myfile.txt\",\"w\")\n",
    "file.write(\"one line of text\")\n",
    "file.write(\"another line of text\")\n",
    "file.close()\n",
    "```\n",
    "\n",
    "### Reading from a file\n",
    "```\n",
    "file = open(\"myfile.txt\",\"r\")\n",
    "lines = file.readlines()\n",
    "```\n",
    "and now in lines we have a list of all the lines in the file and we can iterate through lists:\n",
    "\n",
    "```\n",
    "for line in lines:\n",
    "    print(line)\n",
    " ```"
   ]
  },
  {
   "cell_type": "markdown",
   "metadata": {},
   "source": [
    "As we are in the cloud with colab, let's read from a website that is online. For this we need the address, URL of the page, and we can use a library called BeuatifulSoup to read HTML (most online pages are.. HTML)"
   ]
  },
  {
   "cell_type": "code",
   "execution_count": null,
   "metadata": {},
   "outputs": [],
   "source": [
    "from bs4 import BeautifulSoup\n",
    "import requests\n",
    "URL = \"https://www.cs.cmu.edu/~rgs/alice-I.html\" \n",
    "html = requests.get(URL, {}).text"
   ]
  },
  {
   "cell_type": "code",
   "execution_count": null,
   "metadata": {},
   "outputs": [],
   "source": [
    "#getting the text from html\n",
    "soup = BeautifulSoup(html)"
   ]
  },
  {
   "cell_type": "code",
   "execution_count": null,
   "metadata": {},
   "outputs": [],
   "source": [
    "alice_book = soup.text"
   ]
  },
  {
   "cell_type": "code",
   "execution_count": null,
   "metadata": {},
   "outputs": [],
   "source": [
    "#you can see how many words are in the chapter\n",
    "words = alice_book.split(\" \")\n",
    "print(len(words))"
   ]
  },
  {
   "cell_type": "code",
   "execution_count": null,
   "metadata": {},
   "outputs": [],
   "source": [
    "# We can count how many times the word \"Alice\" appears\n",
    "\n",
    "print(words.count('Alice'))"
   ]
  },
  {
   "cell_type": "markdown",
   "metadata": {},
   "source": [
    "## Checking your understanding\n",
    "\n",
    "By now you should have gone through arrays, for loops and other concepts, if you get stuck revist those notebooks.\n",
    "Write a new file where you only write the lines in the book containing the word *\"Alice\"*. The file should have only 18 lines."
   ]
  },
  {
   "cell_type": "code",
   "execution_count": null,
   "metadata": {},
   "outputs": [],
   "source": [
    "# code here"
   ]
  },
  {
   "cell_type": "markdown",
   "metadata": {},
   "source": [
    "# Summary\n",
    "\n",
    "Congratulations! You should now have a basic understanding of reading and writing from files and working with the data your read."
   ]
  }
 ],
 "metadata": {
  "kernelspec": {
   "display_name": "Python 3",
   "language": "python",
   "name": "python3"
  },
  "language_info": {
   "codemirror_mode": {
    "name": "ipython",
    "version": 3
   },
   "file_extension": ".py",
   "mimetype": "text/x-python",
   "name": "python",
   "nbconvert_exporter": "python",
   "pygments_lexer": "ipython3",
   "version": "3.8.5"
  }
 },
 "nbformat": 4,
 "nbformat_minor": 4
}
